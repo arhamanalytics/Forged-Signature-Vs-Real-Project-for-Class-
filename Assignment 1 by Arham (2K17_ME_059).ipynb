{
 "cells": [
  {
   "cell_type": "code",
   "execution_count": 42,
   "id": "0da7db82",
   "metadata": {},
   "outputs": [],
   "source": [
    "import os\n",
    "import numpy as np\n",
    "import cv2\n",
    "import matplotlib.pyplot as plt\n",
    "import pickle\n",
    "\n",
    "dir = 'C:\\\\Users\\\\home\\\\assignment1\\\\dataset1'\n",
    "\n",
    "categories = ['forge','real']\n",
    "\n",
    "\n",
    "data = []\n",
    "\n",
    "\n",
    "for category in categories:\n",
    "    path= os.path.join(dir,category)\n",
    "    label= categories.index(category)\n",
    "    \n",
    "    for img in os.listdir(path):\n",
    "        imgpath = os.path.join(path,img)\n",
    "        pet_img=cv2.imread(imgpath,0)\n",
    "        try:\n",
    "            pet_img=cv2.resize(pet_img,(50,50))\n",
    "            image= np.array(pet_img).flatten()\n",
    "        \n",
    "            data.append([image,label])\n",
    "        except Exception as e:\n",
    "            pass\n",
    "        \n",
    "        \n",
    "        \n",
    "    \n",
    "pick_in = open('data1.pickle','wb')\n",
    "pickle.dump(data,pick_in)\n",
    "pick_in.close()\n"
   ]
  },
  {
   "cell_type": "code",
   "execution_count": 43,
   "id": "81b57cec",
   "metadata": {},
   "outputs": [],
   "source": [
    "import random\n",
    "from sklearn.model_selection import train_test_split\n",
    "from sklearn.svm import SVC\n",
    "\n",
    "pick_in = open('data1.pickle','rb')\n",
    "data=pickle.load(pick_in)\n",
    "pick_in.close()\n",
    "\n",
    "random.shuffle(data)\n",
    "features = []  \n",
    "labels = []\n",
    "\n",
    "for feature ,label in data:\n",
    "    features.append(feature)\n",
    "    labels.append(label)\n",
    "\n",
    "xtrain, xtest, ytrain,ytest =train_test_split(features,labels, test_size=0.25)\n",
    "\n",
    "model = SVC(C=1,kernel='poly',gamma='auto')\n",
    "model.fit(xtrain, ytrain)\n",
    "\n",
    "pick = open('model.sav','wb')\n",
    "pickle.dump(model,pick)\n",
    "pick.close()"
   ]
  },
  {
   "cell_type": "code",
   "execution_count": 47,
   "id": "8699d80f",
   "metadata": {},
   "outputs": [
    {
     "name": "stdout",
     "output_type": "stream",
     "text": [
      "Accuracy:  0.8161764705882353\n",
      "Prediction is :  real\n",
      "Actual is:  real\n"
     ]
    },
    {
     "data": {
      "image/png": "[encoded data removed]",
      "text/plain": [
       "<Figure size 432x288 with 1 Axes>"
      ]
     },
     "metadata": {
      "needs_background": "light"
     },
     "output_type": "display_data"
    }
   ],
   "source": [
    "pick = open('model.sav','rb')\n",
    "model = pickle.load(pick)\n",
    "pick.close()\n",
    "\n",
    "prediction=model.predict(xtest)\n",
    "accuracy = model.score(xtest, ytest)\n",
    "\n",
    "categories = ['forge','real']\n",
    "\n",
    "print('Accuracy: ', accuracy)\n",
    "\n",
    "print('Prediction is : ',categories[prediction[0]])\n",
    "\n",
    "print('Actual is: ',categories[ytest[0]])\n",
    "\n",
    "\n",
    "mypet=xtest[0].reshape(50,50)\n",
    "plt.imshow(mypet,cmap='gray')\n",
    "plt.show()"
   ]
  },
  {
   "cell_type": "code",
   "execution_count": 45,
   "id": "2ae47160",
   "metadata": {},
   "outputs": [
    {
     "name": "stdout",
     "output_type": "stream",
     "text": [
      "              precision    recall  f1-score   support\n",
      "\n",
      "           0       0.87      0.82      0.85        84\n",
      "           1       0.74      0.81      0.77        52\n",
      "\n",
      "    accuracy                           0.82       136\n",
      "   macro avg       0.81      0.81      0.81       136\n",
      "weighted avg       0.82      0.82      0.82       136\n",
      "\n"
     ]
    }
   ],
   "source": [
    "from sklearn.metrics import classification_report\n",
    "print(classification_report(prediction,ytest))"
   ]
  },
  {
   "cell_type": "code",
   "execution_count": null,
   "id": "1f420f4f",
   "metadata": {},
   "outputs": [],
   "source": []
  }
 ],
 "metadata": {
  "kernelspec": {
   "display_name": "Python 3",
   "language": "python",
   "name": "python3"
  },
  "language_info": {
   "codemirror_mode": {
    "name": "ipython",
    "version": 3
   },
   "file_extension": ".py",
   "mimetype": "text/x-python",
   "name": "python",
   "nbconvert_exporter": "python",
   "pygments_lexer": "ipython3",
   "version": "3.8.5"
  }
 },
 "nbformat": 4,
 "nbformat_minor": 5
}
